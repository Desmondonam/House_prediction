{
 "cells": [
  {
   "cell_type": "markdown",
   "metadata": {},
   "source": [
    "# Data Preparation and Exploration"
   ]
  },
  {
   "cell_type": "code",
   "execution_count": 1,
   "metadata": {},
   "outputs": [],
   "source": [
    "# Import the libraries needed\n",
    "import pandas as pd\n",
    "import numpy as np\n",
    "import seaborn as sns\n",
    "import matplotlib.pyplot as plt"
   ]
  },
  {
   "cell_type": "code",
   "execution_count": 2,
   "metadata": {},
   "outputs": [],
   "source": [
    "# Load the dataset\n",
    "data = pd.read_csv(r\"D:\\104 GB\\Nexthikes\\House_price_prediction\\Data\\Property_data.csv\")"
   ]
  },
  {
   "cell_type": "code",
   "execution_count": 3,
   "metadata": {},
   "outputs": [
    {
     "name": "stdout",
     "output_type": "stream",
     "text": [
      "<class 'pandas.core.frame.DataFrame'>\n",
      "RangeIndex: 1460 entries, 0 to 1459\n",
      "Data columns (total 81 columns):\n",
      " #   Column                Non-Null Count  Dtype  \n",
      "---  ------                --------------  -----  \n",
      " 0   PropertyID            1460 non-null   int64  \n",
      " 1   PropertyClass         1460 non-null   int64  \n",
      " 2   PropertyZone          1460 non-null   object \n",
      " 3   PropertyFrontage      1201 non-null   float64\n",
      " 4   PropertySize          1460 non-null   int64  \n",
      " 5   Street                1460 non-null   object \n",
      " 6   Alley                 91 non-null     object \n",
      " 7   PropertyShape         1460 non-null   object \n",
      " 8   Elevation             1460 non-null   object \n",
      " 9   Amenities             1460 non-null   object \n",
      " 10  Orientation           1460 non-null   object \n",
      " 11  Grade                 1460 non-null   object \n",
      " 12  Neighborhood          1460 non-null   object \n",
      " 13  Condition1            1460 non-null   object \n",
      " 14  Condition2            1460 non-null   object \n",
      " 15  BldgType              1460 non-null   object \n",
      " 16  PropertyStyle         1460 non-null   object \n",
      " 17  OverallQual           1460 non-null   int64  \n",
      " 18  OverallCond           1460 non-null   int64  \n",
      " 19  YearBuilt             1460 non-null   int64  \n",
      " 20  YearRemodAdd          1460 non-null   int64  \n",
      " 21  RoofStyle             1460 non-null   object \n",
      " 22  RoofMatl              1460 non-null   object \n",
      " 23  Roof1Material         1460 non-null   object \n",
      " 24  Roof2Material         1460 non-null   object \n",
      " 25  ExteriorCladdingType  588 non-null    object \n",
      " 26  ExteriorCladdingArea  1452 non-null   float64\n",
      " 27  ExterQual             1460 non-null   object \n",
      " 28  ExterCond             1460 non-null   object \n",
      " 29  PropertyFooting       1460 non-null   object \n",
      " 30  BsmntFinish           1423 non-null   object \n",
      " 31  BsmntMaintenance      1423 non-null   object \n",
      " 32  BsmntVisibility       1422 non-null   object \n",
      " 33  BsmntFinRat1          1423 non-null   object \n",
      " 34  BsmntFinSty1          1460 non-null   int64  \n",
      " 35  BsmntFinQual1         1422 non-null   object \n",
      " 36  BsmtFinSF2            1460 non-null   int64  \n",
      " 37  BsmtUnfSF             1460 non-null   int64  \n",
      " 38  BsmntSqFtage          1460 non-null   int64  \n",
      " 39  Heating               1460 non-null   object \n",
      " 40  HeatingEfficiency     1460 non-null   object \n",
      " 41  CentralAir            1460 non-null   object \n",
      " 42  Electrical            1459 non-null   object \n",
      " 43  1stFlrSF              1460 non-null   int64  \n",
      " 44  2ndFlrSF              1460 non-null   int64  \n",
      " 45  LowQualFinSF          1460 non-null   int64  \n",
      " 46  GrLivArea             1460 non-null   int64  \n",
      " 47  BsmtFullBath          1460 non-null   int64  \n",
      " 48  BsmtHalfBath          1460 non-null   int64  \n",
      " 49  Bath1                 1460 non-null   int64  \n",
      " 50  Bath2                 1460 non-null   int64  \n",
      " 51  BedroomUpLev          1460 non-null   int64  \n",
      " 52  KitchenUpLev          1460 non-null   int64  \n",
      " 53  KitchenQual           1460 non-null   object \n",
      " 54  CntRmsUpLev           1460 non-null   int64  \n",
      " 55  Functional            1460 non-null   object \n",
      " 56  CntFireplaces         1460 non-null   int64  \n",
      " 57  QualFireplace         770 non-null    object \n",
      " 58  BasementType          1379 non-null   object \n",
      " 59  BasementYrBlt         1379 non-null   float64\n",
      " 60  BasementFinish        1379 non-null   object \n",
      " 61  BasementCars          1460 non-null   int64  \n",
      " 62  BasementSqFootage     1460 non-null   int64  \n",
      " 63  BasementQual          1379 non-null   object \n",
      " 64  BasementCond          1379 non-null   object \n",
      " 65  PavedDrive            1460 non-null   object \n",
      " 66  WoodDeckSF            1460 non-null   int64  \n",
      " 67  OpenPorchSF           1460 non-null   int64  \n",
      " 68  EnclosedPorch         1460 non-null   int64  \n",
      " 69  3SsnPorch             1460 non-null   int64  \n",
      " 70  ScreenPorch           1460 non-null   int64  \n",
      " 71  PoolArea              1460 non-null   int64  \n",
      " 72  PoolQC                7 non-null      object \n",
      " 73  BoundaryFeatures      281 non-null    object \n",
      " 74  AddFeatures           54 non-null     object \n",
      " 75  AddVal                1460 non-null   int64  \n",
      " 76  SaleMon               1460 non-null   int64  \n",
      " 77  SaleYr                1460 non-null   int64  \n",
      " 78  SaleType              1460 non-null   object \n",
      " 79  SaleCondn             1460 non-null   object \n",
      " 80  PropPrice             1460 non-null   int64  \n",
      "dtypes: float64(3), int64(35), object(43)\n",
      "memory usage: 924.0+ KB\n",
      "None\n"
     ]
    }
   ],
   "source": [
    "# Display basic information\n",
    "print(data.info())"
   ]
  },
  {
   "cell_type": "code",
   "execution_count": 4,
   "metadata": {},
   "outputs": [
    {
     "name": "stdout",
     "output_type": "stream",
     "text": [
      "PropertyID            0\n",
      "PropertyClass         0\n",
      "PropertyZone          0\n",
      "PropertyFrontage    259\n",
      "PropertySize          0\n",
      "                   ... \n",
      "SaleMon               0\n",
      "SaleYr                0\n",
      "SaleType              0\n",
      "SaleCondn             0\n",
      "PropPrice             0\n",
      "Length: 81, dtype: int64\n"
     ]
    }
   ],
   "source": [
    "# checking for the missing values in the data\n",
    "print(data.isnull().sum())"
   ]
  },
  {
   "cell_type": "code",
   "execution_count": 6,
   "metadata": {},
   "outputs": [
    {
     "data": {
      "text/plain": [
       "(1460, 81)"
      ]
     },
     "execution_count": 6,
     "metadata": {},
     "output_type": "execute_result"
    }
   ],
   "source": [
    "data.shape"
   ]
  },
  {
   "cell_type": "code",
   "execution_count": 7,
   "metadata": {},
   "outputs": [
    {
     "name": "stdout",
     "output_type": "stream",
     "text": [
      "        PropertyID  PropertyClass  PropertyFrontage   PropertySize  \\\n",
      "count  1460.000000    1460.000000       1201.000000    1460.000000   \n",
      "mean    730.500000      56.897260         70.049958   10516.828082   \n",
      "std     421.610009      42.300571         24.284752    9981.264932   \n",
      "min       1.000000      20.000000         21.000000    1300.000000   \n",
      "25%     365.750000      20.000000         59.000000    7553.500000   \n",
      "50%     730.500000      50.000000         69.000000    9478.500000   \n",
      "75%    1095.250000      70.000000         80.000000   11601.500000   \n",
      "max    1460.000000     190.000000        313.000000  215245.000000   \n",
      "\n",
      "       OverallQual  OverallCond    YearBuilt  YearRemodAdd  \\\n",
      "count  1460.000000  1460.000000  1460.000000   1460.000000   \n",
      "mean      6.099315     5.575342  1971.267808   1984.865753   \n",
      "std       1.382997     1.112799    30.202904     20.645407   \n",
      "min       1.000000     1.000000  1872.000000   1950.000000   \n",
      "25%       5.000000     5.000000  1954.000000   1967.000000   \n",
      "50%       6.000000     5.000000  1973.000000   1994.000000   \n",
      "75%       7.000000     6.000000  2000.000000   2004.000000   \n",
      "max      10.000000     9.000000  2010.000000   2010.000000   \n",
      "\n",
      "       ExteriorCladdingArea  BsmntFinSty1  ...   WoodDeckSF  OpenPorchSF  \\\n",
      "count           1452.000000   1460.000000  ...  1460.000000  1460.000000   \n",
      "mean             103.685262    443.639726  ...    94.244521    46.660274   \n",
      "std              181.066207    456.098091  ...   125.338794    66.256028   \n",
      "min                0.000000      0.000000  ...     0.000000     0.000000   \n",
      "25%                0.000000      0.000000  ...     0.000000     0.000000   \n",
      "50%                0.000000    383.500000  ...     0.000000    25.000000   \n",
      "75%              166.000000    712.250000  ...   168.000000    68.000000   \n",
      "max             1600.000000   5644.000000  ...   857.000000   547.000000   \n",
      "\n",
      "       EnclosedPorch    3SsnPorch  ScreenPorch     PoolArea        AddVal  \\\n",
      "count    1460.000000  1460.000000  1460.000000  1460.000000   1460.000000   \n",
      "mean       21.954110     3.409589    15.060959     2.758904     43.489041   \n",
      "std        61.119149    29.317331    55.757415    40.177307    496.123024   \n",
      "min         0.000000     0.000000     0.000000     0.000000      0.000000   \n",
      "25%         0.000000     0.000000     0.000000     0.000000      0.000000   \n",
      "50%         0.000000     0.000000     0.000000     0.000000      0.000000   \n",
      "75%         0.000000     0.000000     0.000000     0.000000      0.000000   \n",
      "max       552.000000   508.000000   480.000000   738.000000  15500.000000   \n",
      "\n",
      "           SaleMon       SaleYr      PropPrice  \n",
      "count  1460.000000  1460.000000    1460.000000  \n",
      "mean      6.321918  2007.815753  180921.195890  \n",
      "std       2.703626     1.328095   79442.502883  \n",
      "min       1.000000  2006.000000   34900.000000  \n",
      "25%       5.000000  2007.000000  129975.000000  \n",
      "50%       6.000000  2008.000000  163000.000000  \n",
      "75%       8.000000  2009.000000  214000.000000  \n",
      "max      12.000000  2010.000000  755000.000000  \n",
      "\n",
      "[8 rows x 38 columns]\n"
     ]
    }
   ],
   "source": [
    "# summary statistics\n",
    "print(data.describe())"
   ]
  },
  {
   "cell_type": "markdown",
   "metadata": {},
   "source": [
    "## Clean the data for proper analysis "
   ]
  },
  {
   "cell_type": "code",
   "execution_count": null,
   "metadata": {},
   "outputs": [],
   "source": [
    "# looking at the data, there are some missing values, that we have to drop such columns becasue they will nmot assist in the analysis at all\n"
   ]
  },
  {
   "cell_type": "code",
   "execution_count": null,
   "metadata": {},
   "outputs": [],
   "source": []
  },
  {
   "cell_type": "code",
   "execution_count": null,
   "metadata": {},
   "outputs": [],
   "source": []
  },
  {
   "cell_type": "code",
   "execution_count": null,
   "metadata": {},
   "outputs": [],
   "source": []
  },
  {
   "cell_type": "code",
   "execution_count": null,
   "metadata": {},
   "outputs": [],
   "source": []
  },
  {
   "cell_type": "code",
   "execution_count": null,
   "metadata": {},
   "outputs": [],
   "source": []
  },
  {
   "cell_type": "code",
   "execution_count": null,
   "metadata": {},
   "outputs": [],
   "source": []
  },
  {
   "cell_type": "markdown",
   "metadata": {},
   "source": [
    "The data that is presented can be used both as a time series, because of the aspect of time that is present in the data. \n",
    "Otherwise we can make the prediction by excluding the aspect of time, as it will not help in the prediction of the price \n",
    "of the house, if wwe are not looking for the time series of the same. \n",
    "But because of time factor and that the economy keeps changing, we can say that the time frames, like the sales of \n",
    "houses in 2007, will be different price form teh year 2010. "
   ]
  },
  {
   "cell_type": "code",
   "execution_count": 10,
   "metadata": {},
   "outputs": [
    {
     "data": {
      "image/png": "[encoded data removed]",
      "text/plain": [
       "<Figure size 640x480 with 1 Axes>"
      ]
     },
     "metadata": {},
     "output_type": "display_data"
    }
   ],
   "source": [
    "# visualize the distribution of teh target varibale (House prices)\n",
    "sns.histplot(data['PropPrice'])\n",
    "plt.show()"
   ]
  },
  {
   "cell_type": "markdown",
   "metadata": {},
   "source": [
    "This shows that most of the price lies between around 100,000 and 300,000. "
   ]
  },
  {
   "cell_type": "markdown",
   "metadata": {},
   "source": [
    "# Feature Extraction and Analysis"
   ]
  },
  {
   "cell_type": "code",
   "execution_count": null,
   "metadata": {},
   "outputs": [],
   "source": []
  }
 ],
 "metadata": {
  "kernelspec": {
   "display_name": "Python 3 (ipykernel)",
   "language": "python",
   "name": "python3"
  },
  "language_info": {
   "codemirror_mode": {
    "name": "ipython",
    "version": 3
   },
   "file_extension": ".py",
   "mimetype": "text/x-python",
   "name": "python",
   "nbconvert_exporter": "python",
   "pygments_lexer": "ipython3",
   "version": "3.11.5"
  }
 },
 "nbformat": 4,
 "nbformat_minor": 2
}
