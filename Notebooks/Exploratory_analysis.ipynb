{
 "cells": [
  {
   "cell_type": "code",
   "execution_count": 1,
   "id": "43fc9d13",
   "metadata": {},
   "outputs": [],
   "source": [
    "import pandas as pd\n",
    "import numpy as np\n",
    "import seaborn as sns\n",
    "import matplotlib.pyplot as plt"
   ]
  },
  {
   "cell_type": "code",
   "execution_count": 2,
   "id": "9ea081e1",
   "metadata": {},
   "outputs": [],
   "source": [
    "import os\n",
    "import sys\n",
    "import plotly.express as px"
   ]
  },
  {
   "cell_type": "code",
   "execution_count": 4,
   "id": "9f1b04cd",
   "metadata": {},
   "outputs": [],
   "source": [
    "# Load the dataset\n",
    "data = pd.read_csv(r\"D:\\104 GB\\Nexthikes\\House_price_prediction\\Data\\cleaned_data.csv\")"
   ]
  },
  {
   "cell_type": "code",
   "execution_count": 5,
   "id": "3d08fd3e",
   "metadata": {},
   "outputs": [
    {
     "name": "stdout",
     "output_type": "stream",
     "text": [
      "<class 'pandas.core.frame.DataFrame'>\n",
      "RangeIndex: 1451 entries, 0 to 1450\n",
      "Data columns (total 75 columns):\n",
      " #   Column                Non-Null Count  Dtype  \n",
      "---  ------                --------------  -----  \n",
      " 0   propertyid            1451 non-null   int64  \n",
      " 1   propertyclass         1451 non-null   int64  \n",
      " 2   propertyzone          1451 non-null   object \n",
      " 3   propertyfrontage      1451 non-null   float64\n",
      " 4   propertysize          1451 non-null   int64  \n",
      " 5   street                1451 non-null   object \n",
      " 6   propertyshape         1451 non-null   object \n",
      " 7   elevation             1451 non-null   object \n",
      " 8   amenities             1451 non-null   object \n",
      " 9   orientation           1451 non-null   object \n",
      " 10  grade                 1451 non-null   object \n",
      " 11  neighborhood          1451 non-null   object \n",
      " 12  condition1            1451 non-null   object \n",
      " 13  condition2            1451 non-null   object \n",
      " 14  bldgtype              1451 non-null   object \n",
      " 15  propertystyle         1451 non-null   object \n",
      " 16  overallqual           1451 non-null   int64  \n",
      " 17  overallcond           1451 non-null   int64  \n",
      " 18  yearbuilt             1451 non-null   int64  \n",
      " 19  yearremodadd          1451 non-null   int64  \n",
      " 20  roofstyle             1451 non-null   object \n",
      " 21  roofmatl              1451 non-null   object \n",
      " 22  roof1material         1451 non-null   object \n",
      " 23  roof2material         1451 non-null   object \n",
      " 24  exteriorcladdingarea  1451 non-null   float64\n",
      " 25  exterqual             1451 non-null   object \n",
      " 26  extercond             1451 non-null   object \n",
      " 27  propertyfooting       1451 non-null   object \n",
      " 28  bsmntfinish           1451 non-null   object \n",
      " 29  bsmntmaintenance      1451 non-null   object \n",
      " 30  bsmntvisibility       1451 non-null   object \n",
      " 31  bsmntfinrat1          1451 non-null   object \n",
      " 32  bsmntfinsty1          1451 non-null   int64  \n",
      " 33  bsmntfinqual1         1451 non-null   object \n",
      " 34  bsmtfinsf2            1451 non-null   int64  \n",
      " 35  bsmtunfsf             1451 non-null   int64  \n",
      " 36  bsmntsqftage          1451 non-null   int64  \n",
      " 37  heating               1451 non-null   object \n",
      " 38  heatingefficiency     1451 non-null   object \n",
      " 39  centralair            1451 non-null   object \n",
      " 40  electrical            1451 non-null   object \n",
      " 41  1stflrsf              1451 non-null   int64  \n",
      " 42  2ndflrsf              1451 non-null   int64  \n",
      " 43  lowqualfinsf          1451 non-null   int64  \n",
      " 44  grlivarea             1451 non-null   int64  \n",
      " 45  bsmtfullbath          1451 non-null   int64  \n",
      " 46  bsmthalfbath          1451 non-null   int64  \n",
      " 47  bath1                 1451 non-null   int64  \n",
      " 48  bath2                 1451 non-null   int64  \n",
      " 49  bedroomuplev          1451 non-null   int64  \n",
      " 50  kitchenuplev          1451 non-null   int64  \n",
      " 51  kitchenqual           1451 non-null   object \n",
      " 52  cntrmsuplev           1451 non-null   int64  \n",
      " 53  functional            1451 non-null   object \n",
      " 54  cntfireplaces         1451 non-null   int64  \n",
      " 55  basementtype          1451 non-null   object \n",
      " 56  basementyrblt         1451 non-null   float64\n",
      " 57  basementfinish        1451 non-null   object \n",
      " 58  basementcars          1451 non-null   int64  \n",
      " 59  basementsqfootage     1451 non-null   int64  \n",
      " 60  basementqual          1451 non-null   object \n",
      " 61  basementcond          1451 non-null   object \n",
      " 62  paveddrive            1451 non-null   object \n",
      " 63  wooddecksf            1451 non-null   int64  \n",
      " 64  openporchsf           1451 non-null   int64  \n",
      " 65  enclosedporch         1451 non-null   int64  \n",
      " 66  3ssnporch             1451 non-null   int64  \n",
      " 67  screenporch           1451 non-null   int64  \n",
      " 68  poolarea              1451 non-null   int64  \n",
      " 69  addval                1451 non-null   int64  \n",
      " 70  salemon               1451 non-null   object \n",
      " 71  saleyr                1451 non-null   object \n",
      " 72  saletype              1451 non-null   object \n",
      " 73  salecondn             1451 non-null   object \n",
      " 74  propprice             1451 non-null   int64  \n",
      "dtypes: float64(3), int64(33), object(39)\n",
      "memory usage: 850.3+ KB\n",
      "None\n"
     ]
    }
   ],
   "source": [
    "# Display basic information\n",
    "print(data.info())"
   ]
  },
  {
   "cell_type": "code",
   "execution_count": 6,
   "id": "4c61ec40",
   "metadata": {},
   "outputs": [
    {
     "name": "stdout",
     "output_type": "stream",
     "text": [
      "        propertyid  propertyclass  propertyfrontage   propertysize  \\\n",
      "count  1451.000000    1451.000000       1451.000000    1451.000000   \n",
      "mean    729.374225      56.933150         70.027638   10507.808408   \n",
      "std     421.737858      42.350366         22.040935    9992.987081   \n",
      "min       1.000000      20.000000         21.000000    1300.000000   \n",
      "25%     364.500000      20.000000         60.000000    7537.500000   \n",
      "50%     729.000000      50.000000         70.027638    9477.000000   \n",
      "75%    1094.500000      70.000000         79.000000   11600.000000   \n",
      "max    1460.000000     190.000000        313.000000  215245.000000   \n",
      "\n",
      "       overallqual  overallcond    yearbuilt  yearremodadd  \\\n",
      "count  1451.000000  1451.000000  1451.000000   1451.000000   \n",
      "mean      6.093728     5.579600  1971.092350   1984.760165   \n",
      "std       1.381467     1.113415    30.190266     20.651334   \n",
      "min       1.000000     1.000000  1872.000000   1950.000000   \n",
      "25%       5.000000     5.000000  1954.000000   1966.000000   \n",
      "50%       6.000000     5.000000  1972.000000   1993.000000   \n",
      "75%       7.000000     6.000000  2000.000000   2004.000000   \n",
      "max      10.000000     9.000000  2010.000000   2010.000000   \n",
      "\n",
      "       exteriorcladdingarea  bsmntfinsty1  ...  basementcars  \\\n",
      "count            1451.00000   1451.000000  ...   1451.000000   \n",
      "mean              103.75672    442.274983  ...      1.764990   \n",
      "std               181.10815    455.369276  ...      0.748728   \n",
      "min                 0.00000      0.000000  ...      0.000000   \n",
      "25%                 0.00000      0.000000  ...      1.000000   \n",
      "50%                 0.00000    381.000000  ...      2.000000   \n",
      "75%               166.00000    707.000000  ...      2.000000   \n",
      "max              1600.00000   5644.000000  ...      4.000000   \n",
      "\n",
      "       basementsqfootage   wooddecksf  openporchsf  enclosedporch  \\\n",
      "count        1451.000000  1451.000000  1451.000000    1451.000000   \n",
      "mean          472.525155    94.412819    46.422467      21.952447   \n",
      "std           214.171752   125.436852    66.060150      61.108223   \n",
      "min             0.000000     0.000000     0.000000       0.000000   \n",
      "25%           327.500000     0.000000     0.000000       0.000000   \n",
      "50%           478.000000     0.000000    24.000000       0.000000   \n",
      "75%           576.000000   168.000000    68.000000       0.000000   \n",
      "max          1418.000000   857.000000   547.000000     552.000000   \n",
      "\n",
      "         3ssnporch  screenporch     poolarea        addval      propprice  \n",
      "count  1451.000000  1451.000000  1451.000000   1451.000000    1451.000000  \n",
      "mean      3.430737    15.154376     2.776017     43.758787  180624.101999  \n",
      "std      29.406940    55.917522    40.301212    497.648467   79312.128273  \n",
      "min       0.000000     0.000000     0.000000      0.000000   34900.000000  \n",
      "25%       0.000000     0.000000     0.000000      0.000000  129900.000000  \n",
      "50%       0.000000     0.000000     0.000000      0.000000  162500.000000  \n",
      "75%       0.000000     0.000000     0.000000      0.000000  214000.000000  \n",
      "max     508.000000   480.000000   738.000000  15500.000000  755000.000000  \n",
      "\n",
      "[8 rows x 36 columns]\n"
     ]
    }
   ],
   "source": [
    "# summary statistics\n",
    "print(data.describe())"
   ]
  },
  {
   "cell_type": "code",
   "execution_count": 10,
   "id": "7634578d",
   "metadata": {},
   "outputs": [
    {
     "data": {
      "image/png": "[encoded data removed]",
      "text/plain": [
       "<Figure size 640x480 with 1 Axes>"
      ]
     },
     "metadata": {},
     "output_type": "display_data"
    }
   ],
   "source": [
    "# visualize the distribution of teh target varibale (House prices)\n",
    "sns.histplot(data['propprice'])\n",
    "plt.show()"
   ]
  },
  {
   "cell_type": "code",
   "execution_count": null,
   "id": "ab10864a",
   "metadata": {},
   "outputs": [],
   "source": []
  }
 ],
 "metadata": {
  "kernelspec": {
   "display_name": "Python 3 (ipykernel)",
   "language": "python",
   "name": "python3"
  },
  "language_info": {
   "codemirror_mode": {
    "name": "ipython",
    "version": 3
   },
   "file_extension": ".py",
   "mimetype": "text/x-python",
   "name": "python",
   "nbconvert_exporter": "python",
   "pygments_lexer": "ipython3",
   "version": "3.11.5"
  }
 },
 "nbformat": 4,
 "nbformat_minor": 5
}
